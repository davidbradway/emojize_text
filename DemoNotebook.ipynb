{
 "cells": [
  {
   "cell_type": "code",
   "execution_count": 61,
   "metadata": {},
   "outputs": [],
   "source": [
    "import emoji\n",
    "import re\n",
    "\n",
    "from emojize_text import *"
   ]
  },
  {
   "cell_type": "code",
   "execution_count": 62,
   "metadata": {},
   "outputs": [],
   "source": [
    "long: str = ' '.join(['hot chicken, four dollar toast, Deep v pop-up, squid, gluten-free,',\n",
    "       'narwhal food truck. cloud bread. man bun, coloring book, cold-pressed church-key',\n",
    "       'cardigan put a bird on it, 8-bit wolf, craft beer. Single-origin coffee.'])"
   ]
  },
  {
   "cell_type": "code",
   "execution_count": 63,
   "metadata": {},
   "outputs": [
    {
     "name": "stdout",
     "output_type": "stream",
     "text": [
      "hot 🐔, four 💵 toast, Deep ✌ pop-🆙, 🦑, gluten-🆓, narwhal food 🚚. ☁ 🍞. 👨 bun, coloring 📖, cold-pressed ⛪-🔑 cardigan put 🅰 🐦 🔛 it, 8-bit 🐺, craft 🍺. Single-origin ☕.\n",
      "hot :chicken:, four :dollar_banknote: toast, Deep :victory_hand: pop-:UP!_button:, :squid:, gluten-:FREE_button:, narwhal food :delivery_truck:. :cloud: :bread:. :man: bun, coloring :open_book:, cold-pressed :church:-:key: cardigan put :A_button_(blood_type): :bird: :ON!_arrow: it, 8-bit :wolf_face:, craft :beer_mug:. Single-origin :hot_beverage:.\n"
     ]
    }
   ],
   "source": [
    "nocolons: str = emojize_text(long)\n",
    "print(nocolons)\n",
    "print(emoji.demojize(nocolons)) # for Python 3.x    "
   ]
  }
 ],
 "metadata": {
  "kernelspec": {
   "display_name": "Python 3",
   "language": "python",
   "name": "python3"
  },
  "language_info": {
   "codemirror_mode": {
    "name": "ipython",
    "version": 3
   },
   "file_extension": ".py",
   "mimetype": "text/x-python",
   "name": "python",
   "nbconvert_exporter": "python",
   "pygments_lexer": "ipython3",
   "version": "3.6.3"
  }
 },
 "nbformat": 4,
 "nbformat_minor": 2
}
